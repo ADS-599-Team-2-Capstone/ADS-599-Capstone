{
 "cells": [
  {
   "attachments": {},
   "cell_type": "markdown",
   "metadata": {},
   "source": [
    "# Modeling"
   ]
  },
  {
   "cell_type": "code",
   "execution_count": 41,
   "metadata": {},
   "outputs": [],
   "source": [
    "# Importing Libraries\n",
    "import numpy as np\n",
    "import pandas as pd\n",
    "import pickle\n",
    "\n",
    "from sklearn.metrics import roc_auc_score\n",
    "from sklearn.metrics import auc\n",
    "from sklearn.metrics import roc_curve\n",
    "from sklearn.metrics import confusion_matrix\n",
    "from sklearn.metrics import classification_report\n",
    "from sklearn.metrics import ConfusionMatrixDisplay\n",
    "\n",
    "from sklearn.model_selection import GridSearchCV\n",
    "\n",
    "from sklearn.naive_bayes import MultinomialNB\n",
    "from sklearn.linear_model import LogisticRegression\n",
    "from sklearn.ensemble import GradientBoostingClassifier\n",
    "from sklearn.ensemble import RandomForestClassifier\n",
    "\n",
    "import matplotlib.pyplot as plt\n",
    "import seaborn as sns"
   ]
  },
  {
   "cell_type": "code",
   "execution_count": 2,
   "metadata": {},
   "outputs": [
    {
     "data": {
      "text/plain": [
       "5512"
      ]
     },
     "execution_count": 2,
     "metadata": {},
     "output_type": "execute_result"
    }
   ],
   "source": [
    "# Get List of Non-Text Columns\n",
    "with open('nontext_col_list.pkl', 'rb') as f:\n",
    "    nontext_col_list = pickle.load(f)\n",
    "\n",
    "len(nontext_col_list)"
   ]
  },
  {
   "cell_type": "code",
   "execution_count": 3,
   "metadata": {},
   "outputs": [],
   "source": [
    "# Get the data\n",
    "g_drive = \"G:/My Drive/ADS-599_Cap_Stone/Capstone_data/\"\n",
    "\n",
    "X_test = pd.read_pickle(g_drive + \"X_test\" +\".pkl\") \n",
    "y_test = pd.read_pickle(g_drive + \"y_test\" +\".pkl\") \n",
    "# X_train = pd.read_pickle(g_drive + \"X_train\" +\".pkl\") \n",
    "# y_train = pd.read_pickle(g_drive + \"y_train\" +\".pkl\")\n",
    "X_sm_train = pd.read_pickle(g_drive + \"X_sm_train\" +\".pkl\") \n",
    "y_sm_train = pd.read_pickle(g_drive + \"y_sm_train\" +\".pkl\")\n"
   ]
  },
  {
   "cell_type": "code",
   "execution_count": 5,
   "metadata": {},
   "outputs": [],
   "source": [
    "# Helper function to get classification model results as a dataframe\n",
    "def model_stats(model_name: str, grid_search, x: pd.DataFrame, y: pd.Series) -> pd.DataFrame:\n",
    "    predictions = grid_search.predict(x)\n",
    "    cm = confusion_matrix(y, predictions)\n",
    "    TN, FP, FN, TP = cm.flatten()\n",
    "    data = {}\n",
    "    data[\"Model\"] = [model_name]\n",
    "    data[\"Accuracy\"] = [(TP + TN) / (TN + FP + FN + TP)]\n",
    "    data[\"AUC\"] = roc_auc_score(y, grid_search.predict_proba(x)[:,1])\n",
    "    Precision = (TP / (TP + FP)) \n",
    "    data[\"Precision\"] = Precision\n",
    "    Recall = (TP / (TP + FN)) \n",
    "    data[\"Recall\"] = Recall\n",
    "    data[\"F1 Score\"] = [(2 * Precision * Recall) / (Precision + Recall)] \n",
    "    return [pd.DataFrame(data), cm]"
   ]
  },
  {
   "attachments": {},
   "cell_type": "markdown",
   "metadata": {},
   "source": [
    "# Models Without Text Features\n",
    "## Naive Bayes"
   ]
  },
  {
   "cell_type": "code",
   "execution_count": 6,
   "metadata": {},
   "outputs": [],
   "source": [
    "# Remove text columns from the data\n",
    "X_test_no_text = X_test[nontext_col_list]\n",
    "X_sm_train_no_text = X_sm_train[nontext_col_list]"
   ]
  },
  {
   "cell_type": "code",
   "execution_count": 7,
   "metadata": {},
   "outputs": [
    {
     "name": "stdout",
     "output_type": "stream",
     "text": [
      "Fitting 3 folds for each of 3 candidates, totalling 9 fits\n"
     ]
    }
   ],
   "source": [
    "# Naive Bayes\n",
    "# Define the model and parameter grid.\n",
    "model = MultinomialNB()\n",
    "grid = {\"alpha\": [0.002,0.001,0.0005]}\n",
    "\n",
    "# Create the grid search object\n",
    "nb_nt_grid_search = GridSearchCV(estimator=model, \n",
    "                              param_grid=grid,\n",
    "                              cv=3,\n",
    "                              return_train_score=True,\n",
    "                              verbose=2,\n",
    "                              n_jobs=-1,\n",
    "                              scoring='f1', \n",
    "                              error_score='raise'\n",
    "                              )\n",
    "# use sklearn.metrics.get_scorer_names() to get a list of all available scorers\n",
    "\n",
    "# Fit the model\n",
    "nb_nt_result = nb_nt_grid_search.fit(X_sm_train_no_text, y_sm_train)\n",
    "\n",
    "# Capture the results\n",
    "nb_nt_train_metrics = model_stats(\"Naive Bayes - w/o Text\", nb_nt_grid_search, \n",
    "                                  x = X_sm_train_no_text, y = y_sm_train)\n",
    "nb_nt_test_metrics = model_stats(\"Naive Bayes - w/o Text\", nb_nt_grid_search, \n",
    "                                 x = X_test_no_text, y = y_test)"
   ]
  },
  {
   "cell_type": "code",
   "execution_count": 8,
   "metadata": {},
   "outputs": [
    {
     "name": "stdout",
     "output_type": "stream",
     "text": [
      "Average of the best F1 Score in the various folds during cross validation = 0.8405451788440046\n",
      "The best parameters found during 3-fold cross validation is = {'alpha': 0.002}\n"
     ]
    }
   ],
   "source": [
    "# Show the results of the grid search.\n",
    "print(\"Average of the best F1 Score in the various folds during cross validation =\", nb_nt_result.best_score_)\n",
    "print(\"The best parameters found during 3-fold cross validation is =\", nb_nt_result.best_params_)"
   ]
  },
  {
   "cell_type": "code",
   "execution_count": 9,
   "metadata": {},
   "outputs": [
    {
     "name": "stdout",
     "output_type": "stream",
     "text": [
      "                  precision    recall  f1-score   support\n",
      "\n",
      "Good Job Posting       0.99      0.92      0.95      3344\n",
      "Fake Job Posting       0.34      0.74      0.46       176\n",
      "\n",
      "        accuracy                           0.91      3520\n",
      "       macro avg       0.66      0.83      0.71      3520\n",
      "    weighted avg       0.95      0.91      0.93      3520\n",
      "\n"
     ]
    }
   ],
   "source": [
    "# Classification Report\n",
    "print(\n",
    "    classification_report(\n",
    "        y_test,\n",
    "        nb_nt_grid_search.predict(X_test_no_text),\n",
    "        target_names=[\"Good Job Posting\", \"Fake Job Posting\"]\n",
    "    )\n",
    ")"
   ]
  },
  {
   "cell_type": "code",
   "execution_count": 10,
   "metadata": {},
   "outputs": [
    {
     "data": {
      "image/png": "[encoded data removed]",
      "text/plain": [
       "<Figure size 432x288 with 2 Axes>"
      ]
     },
     "metadata": {
      "needs_background": "light"
     },
     "output_type": "display_data"
    }
   ],
   "source": [
    "# Training Set Confusion Matrix\n",
    "ConfusionMatrixDisplay.from_estimator(\n",
    "    nb_nt_grid_search,\n",
    "    X_sm_train_no_text,\n",
    "    y_sm_train,\n",
    "    display_labels=[\"Good Job Posting\", \"Fake Job Posting\"],\n",
    ");"
   ]
  },
  {
   "cell_type": "code",
   "execution_count": 11,
   "metadata": {},
   "outputs": [
    {
     "data": {
      "image/png": "[encoded data removed]",
      "text/plain": [
       "<Figure size 432x288 with 2 Axes>"
      ]
     },
     "metadata": {
      "needs_background": "light"
     },
     "output_type": "display_data"
    }
   ],
   "source": [
    "# Test Set Confusion Matrix\n",
    "ConfusionMatrixDisplay.from_estimator(\n",
    "    nb_nt_grid_search,\n",
    "    X_test_no_text,\n",
    "    y_test,\n",
    "    display_labels=[\"Good Job Posting\", \"Fake Job Posting\"],\n",
    ");"
   ]
  },
  {
   "attachments": {},
   "cell_type": "markdown",
   "metadata": {},
   "source": [
    "## Naive Bayes without Text Overview:\n",
    "The data trained relatively well with F1 score of .84 at an alpha level of .002.\n",
    "\n",
    "Testing on new data did better with good job posts (majority class in test group) achieving .95 F1 score.\n",
    "\n",
    "However, the fake posts (minority class in the test group) did worse than training having only achieved F1 of .46."
   ]
  },
  {
   "attachments": {},
   "cell_type": "markdown",
   "metadata": {},
   "source": [
    "## Logistic Regression"
   ]
  },
  {
   "cell_type": "code",
   "execution_count": 12,
   "metadata": {},
   "outputs": [
    {
     "name": "stdout",
     "output_type": "stream",
     "text": [
      "Fitting 3 folds for each of 3 candidates, totalling 9 fits\n"
     ]
    }
   ],
   "source": [
    "# Logistic Regression\n",
    "# Define the model and parameter grid.\n",
    "model = LogisticRegression()\n",
    "solvers = ['liblinear']\n",
    "penalty = ['l2']\n",
    "c_values = [10000, 5000, 1000]\n",
    "grid = dict(solver=solvers,penalty=penalty,C=c_values)\n",
    "\n",
    "# define grid search\n",
    "lr_nt_grid_search = GridSearchCV(estimator=model, \n",
    "                              param_grid=grid, \n",
    "                              cv=3,\n",
    "                              return_train_score=True,\n",
    "                              verbose=2,\n",
    "                              n_jobs=-1,\n",
    "                              scoring='f1',\n",
    "                              error_score='raise'\n",
    "                              )\n",
    "# use sklearn.metrics.get_scorer_names() to get a list of all available scorers\n",
    "\n",
    "# Fit the model\n",
    "lr_nt_result = lr_nt_grid_search.fit(X_sm_train_no_text, y_sm_train)\n",
    "\n",
    "# Capture the results\n",
    "lr_nt_train_metrics = model_stats(\"Logistic Regression - w/o Text\", lr_nt_grid_search, \n",
    "                                  x = X_sm_train_no_text, y = y_sm_train)\n",
    "lr_nt_test_metrics = model_stats(\"Logistic Regression - w/o Text\", lr_nt_grid_search, \n",
    "                                 x = X_test_no_text, y = y_test)"
   ]
  },
  {
   "cell_type": "code",
   "execution_count": 13,
   "metadata": {},
   "outputs": [
    {
     "name": "stdout",
     "output_type": "stream",
     "text": [
      "Average of the best F1 Score in the various folds during cross validation = 0.9381237281467145\n",
      "The best parameters found during 3-fold cross validation is = {'C': 10000, 'penalty': 'l2', 'solver': 'liblinear'}\n"
     ]
    }
   ],
   "source": [
    "# Show the results of the grid search.\n",
    "print(\"Average of the best F1 Score in the various folds during cross validation =\", lr_nt_result.best_score_)\n",
    "print(\"The best parameters found during 3-fold cross validation is =\", lr_nt_result.best_params_)"
   ]
  },
  {
   "cell_type": "code",
   "execution_count": 14,
   "metadata": {},
   "outputs": [
    {
     "name": "stdout",
     "output_type": "stream",
     "text": [
      "                  precision    recall  f1-score   support\n",
      "\n",
      "Good Job Posting       0.99      0.91      0.95      3344\n",
      "Fake Job Posting       0.31      0.77      0.44       176\n",
      "\n",
      "        accuracy                           0.90      3520\n",
      "       macro avg       0.65      0.84      0.69      3520\n",
      "    weighted avg       0.95      0.90      0.92      3520\n",
      "\n"
     ]
    }
   ],
   "source": [
    "# Classification Report\n",
    "print(\n",
    "    classification_report(\n",
    "        y_test,\n",
    "        lr_nt_grid_search.predict(X_test_no_text),\n",
    "        target_names=[\"Good Job Posting\", \"Fake Job Posting\"]\n",
    "    )\n",
    ")"
   ]
  },
  {
   "cell_type": "code",
   "execution_count": 15,
   "metadata": {},
   "outputs": [
    {
     "data": {
      "image/png": "[encoded data removed]",
      "text/plain": [
       "<Figure size 432x288 with 2 Axes>"
      ]
     },
     "metadata": {
      "needs_background": "light"
     },
     "output_type": "display_data"
    }
   ],
   "source": [
    "# Training Set Confusion Matrix\n",
    "ConfusionMatrixDisplay.from_estimator(\n",
    "    lr_nt_grid_search,\n",
    "    X_sm_train_no_text,\n",
    "    y_sm_train,\n",
    "    display_labels=[\"Good Job Posting\", \"Fake Job Posting\"],\n",
    ");"
   ]
  },
  {
   "cell_type": "code",
   "execution_count": 16,
   "metadata": {},
   "outputs": [
    {
     "data": {
      "image/png": "[encoded data removed]",
      "text/plain": [
       "<Figure size 432x288 with 2 Axes>"
      ]
     },
     "metadata": {
      "needs_background": "light"
     },
     "output_type": "display_data"
    }
   ],
   "source": [
    "# Test Set Confusion Matrix\n",
    "ConfusionMatrixDisplay.from_estimator(\n",
    "    lr_nt_grid_search,\n",
    "    X_test_no_text,\n",
    "    y_test,\n",
    "    display_labels=[\"Good Job Posting\", \"Fake Job Posting\"],\n",
    ");"
   ]
  },
  {
   "attachments": {},
   "cell_type": "markdown",
   "metadata": {},
   "source": [
    "## Logistic Regression without Text Overview:\n",
    "The data trained well with F1 score of .94 when using C-value of 10000, l2 penalty, and the liblinear solver method.\n",
    "\n",
    "Testing on new data good job posts (majority class in test group) did slightly better at .95. \n",
    "\n",
    "However, the fake posts (minority class in the test group) tested worse at an F1 of .44."
   ]
  },
  {
   "attachments": {},
   "cell_type": "markdown",
   "metadata": {},
   "source": [
    "# Models With Text Features\n",
    "## Naive Bayes"
   ]
  },
  {
   "cell_type": "code",
   "execution_count": 17,
   "metadata": {},
   "outputs": [
    {
     "name": "stdout",
     "output_type": "stream",
     "text": [
      "Fitting 3 folds for each of 3 candidates, totalling 9 fits\n"
     ]
    }
   ],
   "source": [
    "# Naive Bayes\n",
    "# Define the model and parameter grid.\n",
    "model = MultinomialNB()\n",
    "grid = {\"alpha\": [0.002,0.001,0.0005]}\n",
    "\n",
    "# Create the grid search object\n",
    "nb_grid_search = GridSearchCV(estimator=model, \n",
    "                              param_grid=grid,\n",
    "                              cv=3,\n",
    "                              return_train_score=True,\n",
    "                              verbose=2,\n",
    "                              n_jobs=-1,\n",
    "                              scoring='f1', \n",
    "                              error_score='raise'\n",
    "                              )\n",
    "# use sklearn.metrics.get_scorer_names() to get a list of all available scorers\n",
    "\n",
    "# Fit the model\n",
    "nb_result = nb_grid_search.fit(X_sm_train, y_sm_train)\n",
    "\n",
    "# Capture the results\n",
    "nb_train_metrics = model_stats(\"Naive Bayes\", nb_grid_search, x = X_sm_train, y = y_sm_train)\n",
    "nb_test_metrics = model_stats(\"Naive Bayes\", nb_grid_search, x = X_test, y = y_test)"
   ]
  },
  {
   "cell_type": "code",
   "execution_count": 18,
   "metadata": {},
   "outputs": [
    {
     "name": "stdout",
     "output_type": "stream",
     "text": [
      "Average of the best F1 Score in the various folds during cross validation = 0.9700224511093328\n",
      "The best parameters found during 3-fold cross validation is = {'alpha': 0.002}\n"
     ]
    }
   ],
   "source": [
    "# Show the results of the grid search.\n",
    "print(\"Average of the best F1 Score in the various folds during cross validation =\", nb_result.best_score_)\n",
    "print(\"The best parameters found during 3-fold cross validation is =\", nb_result.best_params_)"
   ]
  },
  {
   "cell_type": "code",
   "execution_count": 19,
   "metadata": {},
   "outputs": [
    {
     "name": "stdout",
     "output_type": "stream",
     "text": [
      "                  precision    recall  f1-score   support\n",
      "\n",
      "Good Job Posting       0.99      0.99      0.99      3344\n",
      "Fake Job Posting       0.76      0.78      0.77       176\n",
      "\n",
      "        accuracy                           0.98      3520\n",
      "       macro avg       0.87      0.89      0.88      3520\n",
      "    weighted avg       0.98      0.98      0.98      3520\n",
      "\n"
     ]
    }
   ],
   "source": [
    "# Classification Report\n",
    "print(\n",
    "    classification_report(\n",
    "        y_test,\n",
    "        nb_grid_search.predict(X_test),\n",
    "        target_names=[\"Good Job Posting\", \"Fake Job Posting\"]\n",
    "    )\n",
    ")"
   ]
  },
  {
   "cell_type": "code",
   "execution_count": 20,
   "metadata": {},
   "outputs": [
    {
     "data": {
      "image/png": "[encoded data removed]",
      "text/plain": [
       "<Figure size 432x288 with 2 Axes>"
      ]
     },
     "metadata": {
      "needs_background": "light"
     },
     "output_type": "display_data"
    }
   ],
   "source": [
    "# Training Set Confusion Matrix\n",
    "ConfusionMatrixDisplay.from_estimator(\n",
    "    nb_grid_search,\n",
    "    X_sm_train,\n",
    "    y_sm_train,\n",
    "    display_labels=[\"Good Job Posting\", \"Fake Job Posting\"],\n",
    ");"
   ]
  },
  {
   "cell_type": "code",
   "execution_count": 21,
   "metadata": {},
   "outputs": [
    {
     "data": {
      "image/png": "[encoded data removed]",
      "text/plain": [
       "<Figure size 432x288 with 2 Axes>"
      ]
     },
     "metadata": {
      "needs_background": "light"
     },
     "output_type": "display_data"
    }
   ],
   "source": [
    "# Test Set Confusion Matrix\n",
    "ConfusionMatrixDisplay.from_estimator(\n",
    "    nb_grid_search,\n",
    "    X_test,\n",
    "    y_test,\n",
    "    display_labels=[\"Good Job Posting\", \"Fake Job Posting\"],\n",
    ");"
   ]
  },
  {
   "attachments": {},
   "cell_type": "markdown",
   "metadata": {},
   "source": [
    "## Naive Bayes with Text Overview:\n",
    "The data trained well with F1 score of .97 when using an alpha value of .002.\n",
    "\n",
    "Testing on new data good job posts (majority class in test group) did better at an F1 of .99. \n",
    "\n",
    "However, the fake posts (minority class in the test group) tested worse at an F1 of .77. Despite being relatively low, this value is markedly higher than the Naive Bayes without text data."
   ]
  },
  {
   "attachments": {},
   "cell_type": "markdown",
   "metadata": {},
   "source": [
    "# Logistic Regression"
   ]
  },
  {
   "cell_type": "code",
   "execution_count": 22,
   "metadata": {},
   "outputs": [
    {
     "name": "stdout",
     "output_type": "stream",
     "text": [
      "Fitting 3 folds for each of 3 candidates, totalling 9 fits\n"
     ]
    }
   ],
   "source": [
    "# Logistic Regression\n",
    "# Define the model and parameter grid.\n",
    "model = LogisticRegression()\n",
    "solvers = ['liblinear']\n",
    "penalty = ['l2']\n",
    "c_values = [10000, 5000, 1000]\n",
    "grid = dict(solver=solvers,penalty=penalty,C=c_values)\n",
    "\n",
    "# define grid search\n",
    "lr_grid_search = GridSearchCV(estimator=model, \n",
    "                              param_grid=grid, \n",
    "                              cv=3,\n",
    "                              return_train_score=True,\n",
    "                              verbose=2,\n",
    "                              n_jobs=-1,\n",
    "                              scoring='f1',\n",
    "                              error_score='raise'\n",
    "                              )\n",
    "# use sklearn.metrics.get_scorer_names() to get a list of all available scorers\n",
    "\n",
    "# Fit the model\n",
    "lr_result = lr_grid_search.fit(X_sm_train, y_sm_train)\n",
    "\n",
    "# Capture the results\n",
    "lr_train_metrics = model_stats(\"Logistic Regression\", lr_grid_search, x = X_sm_train, y = y_sm_train)\n",
    "lr_test_metrics = model_stats(\"Logistic Regression\", lr_grid_search, x = X_test, y = y_test)"
   ]
  },
  {
   "cell_type": "code",
   "execution_count": 23,
   "metadata": {},
   "outputs": [
    {
     "name": "stdout",
     "output_type": "stream",
     "text": [
      "Average of the best F1 Score in the various folds during cross validation = 0.9912139531277288\n",
      "The best parameters found during 3-fold cross validation is = {'C': 5000, 'penalty': 'l2', 'solver': 'liblinear'}\n"
     ]
    }
   ],
   "source": [
    "# Show the results of the grid search.\n",
    "print(\"Average of the best F1 Score in the various folds during cross validation =\", lr_result.best_score_)\n",
    "print(\"The best parameters found during 3-fold cross validation is =\", lr_result.best_params_)"
   ]
  },
  {
   "cell_type": "code",
   "execution_count": 24,
   "metadata": {},
   "outputs": [
    {
     "name": "stdout",
     "output_type": "stream",
     "text": [
      "                  precision    recall  f1-score   support\n",
      "\n",
      "Good Job Posting       0.99      0.99      0.99      3344\n",
      "Fake Job Posting       0.82      0.88      0.85       176\n",
      "\n",
      "        accuracy                           0.98      3520\n",
      "       macro avg       0.91      0.93      0.92      3520\n",
      "    weighted avg       0.98      0.98      0.98      3520\n",
      "\n"
     ]
    }
   ],
   "source": [
    "# Classification Report\n",
    "print(\n",
    "    classification_report(\n",
    "        y_test,\n",
    "        lr_result.predict(X_test),\n",
    "        target_names=[\"Good Job Posting\", \"Fake Job Posting\"]\n",
    "    )\n",
    ")"
   ]
  },
  {
   "cell_type": "code",
   "execution_count": 25,
   "metadata": {},
   "outputs": [
    {
     "data": {
      "image/png": "[encoded data removed]",
      "text/plain": [
       "<Figure size 432x288 with 2 Axes>"
      ]
     },
     "metadata": {
      "needs_background": "light"
     },
     "output_type": "display_data"
    }
   ],
   "source": [
    "# Training Set Confusion Matrix\n",
    "ConfusionMatrixDisplay.from_estimator(\n",
    "    lr_grid_search,\n",
    "    X_sm_train,\n",
    "    y_sm_train,\n",
    "    display_labels=[\"Good Job Posting\", \"Fake Job Posting\"],\n",
    ");"
   ]
  },
  {
   "cell_type": "code",
   "execution_count": 26,
   "metadata": {},
   "outputs": [
    {
     "data": {
      "image/png": "[encoded data removed]",
      "text/plain": [
       "<Figure size 432x288 with 2 Axes>"
      ]
     },
     "metadata": {
      "needs_background": "light"
     },
     "output_type": "display_data"
    }
   ],
   "source": [
    "# Test Set Confusion Matrix\n",
    "ConfusionMatrixDisplay.from_estimator(\n",
    "    lr_grid_search,\n",
    "    X_test,\n",
    "    y_test,\n",
    "    display_labels=[\"Good Job Posting\", \"Fake Job Posting\"],\n",
    ");"
   ]
  },
  {
   "attachments": {},
   "cell_type": "markdown",
   "metadata": {},
   "source": [
    "## Logistic Regression with Text Overview:\n",
    "The data trained well with F1 score of .99 when using a C-value of 5000, the l2 penalty, and the liblinear solver.\n",
    "\n",
    "Testing on new data good job posts (majority class in test group) remained the same as overall training with an F1 of .99. \n",
    "\n",
    "Testing on the fake posts (minority class in the test group) tested slightly worse at an F1 of .88. While technically lower than the training value, this score is impressive and is double that of the Logistic Regression model on non-text data."
   ]
  },
  {
   "attachments": {},
   "cell_type": "markdown",
   "metadata": {},
   "source": [
    "# Gradiant Boosting Machine for Classification"
   ]
  },
  {
   "cell_type": "code",
   "execution_count": 27,
   "metadata": {},
   "outputs": [
    {
     "name": "stdout",
     "output_type": "stream",
     "text": [
      "Fitting 3 folds for each of 10 candidates, totalling 30 fits\n"
     ]
    }
   ],
   "source": [
    "# Gradient Boosting Machine for Classification\n",
    "# Define the model and parameter grid.\n",
    "model = GradientBoostingClassifier(learning_rate=0.1, n_estimators=60, max_features='sqrt', subsample=0.8, random_state=10)\n",
    "grid = {'max_depth':range(12,16,2), \n",
    "        'min_samples_split':range(100,201,25)\n",
    "        }\n",
    "\n",
    "# Create the grid search object\n",
    "gbm_grid_search = GridSearchCV(estimator=model, \n",
    "                               param_grid=grid,\n",
    "                               cv=3,\n",
    "                               return_train_score=True,\n",
    "                               verbose=2,\n",
    "                               n_jobs=-1,\n",
    "                               scoring='f1', # 'recall' # 'precision' # 'recall' # 'roc_auc' # 'accuracy' # \n",
    "                               error_score='raise'\n",
    "                               )\n",
    "# use sklearn.metrics.get_scorer_names() to get a list of all available scorers\n",
    "\n",
    "# Fit the model\n",
    "gbm_result = gbm_grid_search.fit(X_sm_train, y_sm_train)\n",
    "\n",
    "# Capture the results\n",
    "gbm_train_metrics = model_stats(\"Gradient Boosting Machine\", gbm_grid_search, x = X_sm_train, y = y_sm_train)\n",
    "gbm_test_metrics = model_stats(\"Gradient Boosting Machine\", gbm_grid_search, x = X_test, y = y_test)"
   ]
  },
  {
   "cell_type": "code",
   "execution_count": 28,
   "metadata": {},
   "outputs": [
    {
     "name": "stdout",
     "output_type": "stream",
     "text": [
      "Average of the best F1 Score in the various folds during cross validation = 0.9920480910166813\n",
      "The best parameters found during 3-fold cross validation is = {'max_depth': 14, 'min_samples_split': 100}\n"
     ]
    }
   ],
   "source": [
    "print(\"Average of the best F1 Score in the various folds during cross validation =\", gbm_result.best_score_)\n",
    "print(\"The best parameters found during 3-fold cross validation is =\", gbm_result.best_params_)"
   ]
  },
  {
   "cell_type": "code",
   "execution_count": 29,
   "metadata": {},
   "outputs": [
    {
     "name": "stdout",
     "output_type": "stream",
     "text": [
      "                  precision    recall  f1-score   support\n",
      "\n",
      "Good Job Posting       0.99      0.99      0.99      3344\n",
      "Fake Job Posting       0.83      0.79      0.81       176\n",
      "\n",
      "        accuracy                           0.98      3520\n",
      "       macro avg       0.91      0.89      0.90      3520\n",
      "    weighted avg       0.98      0.98      0.98      3520\n",
      "\n"
     ]
    }
   ],
   "source": [
    "# Classification Report\n",
    "print(\n",
    "    classification_report(\n",
    "        y_test,\n",
    "        gbm_result.predict(X_test),\n",
    "        target_names=[\"Good Job Posting\", \"Fake Job Posting\"]\n",
    "    )\n",
    ")"
   ]
  },
  {
   "cell_type": "code",
   "execution_count": 30,
   "metadata": {},
   "outputs": [
    {
     "data": {
      "image/png": "[encoded data removed]",
      "text/plain": [
       "<Figure size 432x288 with 2 Axes>"
      ]
     },
     "metadata": {
      "needs_background": "light"
     },
     "output_type": "display_data"
    }
   ],
   "source": [
    "# Training Set Confusion Matrix\n",
    "ConfusionMatrixDisplay.from_estimator(\n",
    "    gbm_grid_search,\n",
    "    X_sm_train,\n",
    "    y_sm_train,\n",
    "    display_labels=[\"Good Job Posting\", \"Fake Job Posting\"],\n",
    ");"
   ]
  },
  {
   "cell_type": "code",
   "execution_count": 31,
   "metadata": {},
   "outputs": [
    {
     "data": {
      "image/png": "[encoded data removed]",
      "text/plain": [
       "<Figure size 432x288 with 2 Axes>"
      ]
     },
     "metadata": {
      "needs_background": "light"
     },
     "output_type": "display_data"
    }
   ],
   "source": [
    "# Test Set Confusion Matrix\n",
    "ConfusionMatrixDisplay.from_estimator(\n",
    "    gbm_grid_search,\n",
    "    X_test,\n",
    "    y_test,\n",
    "    display_labels=[\"Good Job Posting\", \"Fake Job Posting\"],\n",
    ");"
   ]
  },
  {
   "attachments": {},
   "cell_type": "markdown",
   "metadata": {},
   "source": [
    "## Gradient Boosting Machine for Classifiers with Text Overview:\n",
    "The data trained well with F1 score of .99 when using a max depth of 14 and minimum samples to split of 100.\n",
    "\n",
    "Testing on new data good job posts (majority class in test group) remained the same as overall training with an F1 of .99. \n",
    "\n",
    "Testing on the fake posts (minority class in the test group) tested slightly worse at an F1 of .81."
   ]
  },
  {
   "attachments": {},
   "cell_type": "markdown",
   "metadata": {},
   "source": [
    "# Random Forest Classifier\n"
   ]
  },
  {
   "cell_type": "code",
   "execution_count": 32,
   "metadata": {},
   "outputs": [],
   "source": [
    "# Random Forest Classifier\n",
    "# Define the model and parameter grid.\n",
    "model = RandomForestClassifier(n_estimators = 100)  \n",
    "grid = {\n",
    "        'bootstrap': [True, False],\n",
    "        'max_features': ['sqrt']\n",
    "        }\n",
    "\n",
    "# Create the grid search object\n",
    "rf_grid_search = GridSearchCV(estimator=model, \n",
    "                               param_grid=grid, \n",
    "                               n_jobs=-1,\n",
    "                               cv=3, # 3-fold cross-validation\n",
    "                               scoring='f1',\n",
    "                               error_score='raise')\n",
    "# use sklearn.metrics.get_scorer_names() to get a list of all available scorers\n",
    "\n",
    "# Fit the model\n",
    "rf_result = rf_grid_search.fit(X_sm_train, y_sm_train)\n",
    "\n",
    "# Capture the results\n",
    "rf_train_metrics = model_stats(\"Random Forest\", rf_grid_search, x = X_sm_train, y = y_sm_train)\n",
    "rf_test_metrics = model_stats(\"Random Forest\", rf_grid_search, x = X_test, y = y_test)"
   ]
  },
  {
   "cell_type": "code",
   "execution_count": 33,
   "metadata": {},
   "outputs": [
    {
     "name": "stdout",
     "output_type": "stream",
     "text": [
      "Average of the best F1 Score in the various folds during cross validation = 0.9982404476005348\n",
      "The best parameters found during 3-fold cross validation is = {'bootstrap': False, 'max_features': 'sqrt'}\n"
     ]
    }
   ],
   "source": [
    "print(\"Average of the best F1 Score in the various folds during cross validation =\", rf_result.best_score_)\n",
    "print(\"The best parameters found during 3-fold cross validation is =\", rf_result.best_params_)"
   ]
  },
  {
   "cell_type": "code",
   "execution_count": 34,
   "metadata": {},
   "outputs": [
    {
     "name": "stdout",
     "output_type": "stream",
     "text": [
      "                  precision    recall  f1-score   support\n",
      "\n",
      "Good Job Posting       0.98      1.00      0.99      3344\n",
      "Fake Job Posting       0.98      0.62      0.76       176\n",
      "\n",
      "        accuracy                           0.98      3520\n",
      "       macro avg       0.98      0.81      0.87      3520\n",
      "    weighted avg       0.98      0.98      0.98      3520\n",
      "\n"
     ]
    }
   ],
   "source": [
    "# Classification Report\n",
    "print(\n",
    "    classification_report(\n",
    "        y_test,\n",
    "        rf_grid_search.predict(X_test),\n",
    "        target_names=[\"Good Job Posting\", \"Fake Job Posting\"]\n",
    "    )\n",
    ")"
   ]
  },
  {
   "cell_type": "code",
   "execution_count": 35,
   "metadata": {},
   "outputs": [
    {
     "data": {
      "image/png": "[encoded data removed]",
      "text/plain": [
       "<Figure size 432x288 with 2 Axes>"
      ]
     },
     "metadata": {
      "needs_background": "light"
     },
     "output_type": "display_data"
    }
   ],
   "source": [
    "# Training Set Confusion Matrix\n",
    "ConfusionMatrixDisplay.from_estimator(\n",
    "    rf_grid_search,\n",
    "    X_sm_train,\n",
    "    y_sm_train,\n",
    "    display_labels=[\"Good Job Posting\", \"Fake Job Posting\"],\n",
    ");"
   ]
  },
  {
   "cell_type": "code",
   "execution_count": 36,
   "metadata": {},
   "outputs": [
    {
     "data": {
      "image/png": "[encoded data removed]",
      "text/plain": [
       "<Figure size 432x288 with 2 Axes>"
      ]
     },
     "metadata": {
      "needs_background": "light"
     },
     "output_type": "display_data"
    }
   ],
   "source": [
    "# Test Set Confusion Matrix\n",
    "ConfusionMatrixDisplay.from_estimator(\n",
    "    rf_grid_search,\n",
    "    X_test,\n",
    "    y_test,\n",
    "    display_labels=[\"Good Job Posting\", \"Fake Job Posting\"],\n",
    ");"
   ]
  },
  {
   "attachments": {},
   "cell_type": "markdown",
   "metadata": {},
   "source": [
    "## Random Forest with Text Overview:\n",
    "The data trained well with F1 score of .99 when using a 'bootstrap' set as False and the max features set to 'sqrt'.\n",
    "\n",
    "Testing on new data good job posts (majority class in test group) remained the same as overall training with an F1 of .99. \n",
    "\n",
    "Testing on the fake posts (minority class in the test group) tested worse at an F1 of .76."
   ]
  },
  {
   "attachments": {},
   "cell_type": "markdown",
   "metadata": {},
   "source": [
    "# Model Results"
   ]
  },
  {
   "cell_type": "code",
   "execution_count": 37,
   "metadata": {},
   "outputs": [
    {
     "data": {
      "text/html": [
       "<div>\n",
       "<style scoped>\n",
       "    .dataframe tbody tr th:only-of-type {\n",
       "        vertical-align: middle;\n",
       "    }\n",
       "\n",
       "    .dataframe tbody tr th {\n",
       "        vertical-align: top;\n",
       "    }\n",
       "\n",
       "    .dataframe thead th {\n",
       "        text-align: right;\n",
       "    }\n",
       "</style>\n",
       "<table border=\"1\" class=\"dataframe\">\n",
       "  <thead>\n",
       "    <tr style=\"text-align: right;\">\n",
       "      <th></th>\n",
       "      <th>Model</th>\n",
       "      <th>Accuracy</th>\n",
       "      <th>AUC</th>\n",
       "      <th>Precision</th>\n",
       "      <th>Recall</th>\n",
       "      <th>F1 Score</th>\n",
       "    </tr>\n",
       "  </thead>\n",
       "  <tbody>\n",
       "    <tr>\n",
       "      <th>0</th>\n",
       "      <td>Naive Bayes - w/o Text</td>\n",
       "      <td>0.865550</td>\n",
       "      <td>0.982936</td>\n",
       "      <td>0.952597</td>\n",
       "      <td>0.769386</td>\n",
       "      <td>0.851245</td>\n",
       "    </tr>\n",
       "    <tr>\n",
       "      <th>0</th>\n",
       "      <td>Logistic Regression - w/o Text</td>\n",
       "      <td>0.979700</td>\n",
       "      <td>0.997787</td>\n",
       "      <td>0.972645</td>\n",
       "      <td>0.987163</td>\n",
       "      <td>0.979850</td>\n",
       "    </tr>\n",
       "    <tr>\n",
       "      <th>0</th>\n",
       "      <td>Naive Bayes</td>\n",
       "      <td>0.979364</td>\n",
       "      <td>0.998939</td>\n",
       "      <td>0.994229</td>\n",
       "      <td>0.964326</td>\n",
       "      <td>0.979049</td>\n",
       "    </tr>\n",
       "    <tr>\n",
       "      <th>0</th>\n",
       "      <td>Logistic Regression</td>\n",
       "      <td>1.000000</td>\n",
       "      <td>1.000000</td>\n",
       "      <td>1.000000</td>\n",
       "      <td>1.000000</td>\n",
       "      <td>1.000000</td>\n",
       "    </tr>\n",
       "    <tr>\n",
       "      <th>0</th>\n",
       "      <td>Gradient Boosting Machine</td>\n",
       "      <td>0.998992</td>\n",
       "      <td>0.999988</td>\n",
       "      <td>0.999328</td>\n",
       "      <td>0.998657</td>\n",
       "      <td>0.998992</td>\n",
       "    </tr>\n",
       "    <tr>\n",
       "      <th>0</th>\n",
       "      <td>Random Forest</td>\n",
       "      <td>0.980398</td>\n",
       "      <td>0.994919</td>\n",
       "      <td>0.981982</td>\n",
       "      <td>0.619318</td>\n",
       "      <td>0.759582</td>\n",
       "    </tr>\n",
       "  </tbody>\n",
       "</table>\n",
       "</div>"
      ],
      "text/plain": [
       "                            Model  Accuracy       AUC  Precision    Recall  \\\n",
       "0          Naive Bayes - w/o Text  0.865550  0.982936   0.952597  0.769386   \n",
       "0  Logistic Regression - w/o Text  0.979700  0.997787   0.972645  0.987163   \n",
       "0                     Naive Bayes  0.979364  0.998939   0.994229  0.964326   \n",
       "0             Logistic Regression  1.000000  1.000000   1.000000  1.000000   \n",
       "0       Gradient Boosting Machine  0.998992  0.999988   0.999328  0.998657   \n",
       "0                   Random Forest  0.980398  0.994919   0.981982  0.619318   \n",
       "\n",
       "   F1 Score  \n",
       "0  0.851245  \n",
       "0  0.979850  \n",
       "0  0.979049  \n",
       "0  1.000000  \n",
       "0  0.998992  \n",
       "0  0.759582  "
      ]
     },
     "execution_count": 37,
     "metadata": {},
     "output_type": "execute_result"
    }
   ],
   "source": [
    "# Train Metrics\n",
    "training_metrics = pd.concat([nb_nt_train_metrics[0], lr_nt_train_metrics[0],\n",
    "                              nb_train_metrics[0], lr_train_metrics[0], \n",
    "                              gbm_train_metrics[0], rf_test_metrics[0]], axis=0)\n",
    "training_metrics"
   ]
  },
  {
   "cell_type": "code",
   "execution_count": 38,
   "metadata": {},
   "outputs": [
    {
     "data": {
      "text/html": [
       "<div>\n",
       "<style scoped>\n",
       "    .dataframe tbody tr th:only-of-type {\n",
       "        vertical-align: middle;\n",
       "    }\n",
       "\n",
       "    .dataframe tbody tr th {\n",
       "        vertical-align: top;\n",
       "    }\n",
       "\n",
       "    .dataframe thead th {\n",
       "        text-align: right;\n",
       "    }\n",
       "</style>\n",
       "<table border=\"1\" class=\"dataframe\">\n",
       "  <thead>\n",
       "    <tr style=\"text-align: right;\">\n",
       "      <th></th>\n",
       "      <th>Model</th>\n",
       "      <th>Accuracy</th>\n",
       "      <th>AUC</th>\n",
       "      <th>Precision</th>\n",
       "      <th>Recall</th>\n",
       "      <th>F1 Score</th>\n",
       "    </tr>\n",
       "  </thead>\n",
       "  <tbody>\n",
       "    <tr>\n",
       "      <th>0</th>\n",
       "      <td>Naive Bayes - w/o Text</td>\n",
       "      <td>0.913352</td>\n",
       "      <td>0.914275</td>\n",
       "      <td>0.335038</td>\n",
       "      <td>0.744318</td>\n",
       "      <td>0.462081</td>\n",
       "    </tr>\n",
       "    <tr>\n",
       "      <th>0</th>\n",
       "      <td>Logistic Regression - w/o Text</td>\n",
       "      <td>0.902841</td>\n",
       "      <td>0.916583</td>\n",
       "      <td>0.310502</td>\n",
       "      <td>0.772727</td>\n",
       "      <td>0.442997</td>\n",
       "    </tr>\n",
       "    <tr>\n",
       "      <th>0</th>\n",
       "      <td>Naive Bayes</td>\n",
       "      <td>0.976705</td>\n",
       "      <td>0.972583</td>\n",
       "      <td>0.758242</td>\n",
       "      <td>0.784091</td>\n",
       "      <td>0.770950</td>\n",
       "    </tr>\n",
       "    <tr>\n",
       "      <th>0</th>\n",
       "      <td>Logistic Regression</td>\n",
       "      <td>0.984375</td>\n",
       "      <td>0.985617</td>\n",
       "      <td>0.823529</td>\n",
       "      <td>0.875000</td>\n",
       "      <td>0.848485</td>\n",
       "    </tr>\n",
       "    <tr>\n",
       "      <th>0</th>\n",
       "      <td>Gradient Boosting Machine</td>\n",
       "      <td>0.981250</td>\n",
       "      <td>0.987879</td>\n",
       "      <td>0.827381</td>\n",
       "      <td>0.789773</td>\n",
       "      <td>0.808140</td>\n",
       "    </tr>\n",
       "    <tr>\n",
       "      <th>0</th>\n",
       "      <td>Random Forest</td>\n",
       "      <td>0.980398</td>\n",
       "      <td>0.994919</td>\n",
       "      <td>0.981982</td>\n",
       "      <td>0.619318</td>\n",
       "      <td>0.759582</td>\n",
       "    </tr>\n",
       "  </tbody>\n",
       "</table>\n",
       "</div>"
      ],
      "text/plain": [
       "                            Model  Accuracy       AUC  Precision    Recall  \\\n",
       "0          Naive Bayes - w/o Text  0.913352  0.914275   0.335038  0.744318   \n",
       "0  Logistic Regression - w/o Text  0.902841  0.916583   0.310502  0.772727   \n",
       "0                     Naive Bayes  0.976705  0.972583   0.758242  0.784091   \n",
       "0             Logistic Regression  0.984375  0.985617   0.823529  0.875000   \n",
       "0       Gradient Boosting Machine  0.981250  0.987879   0.827381  0.789773   \n",
       "0                   Random Forest  0.980398  0.994919   0.981982  0.619318   \n",
       "\n",
       "   F1 Score  \n",
       "0  0.462081  \n",
       "0  0.442997  \n",
       "0  0.770950  \n",
       "0  0.848485  \n",
       "0  0.808140  \n",
       "0  0.759582  "
      ]
     },
     "execution_count": 38,
     "metadata": {},
     "output_type": "execute_result"
    }
   ],
   "source": [
    "# Test Metrics\n",
    "test_metrics = pd.concat([nb_nt_test_metrics[0], lr_nt_test_metrics[0],\n",
    "                          nb_test_metrics[0], lr_test_metrics[0], \n",
    "                          gbm_test_metrics[0], rf_test_metrics[0]], axis=0)\n",
    "test_metrics"
   ]
  },
  {
   "cell_type": "code",
   "execution_count": 57,
   "metadata": {},
   "outputs": [
    {
     "data": {
      "image/png": "[encoded data removed]",
      "text/plain": [
       "<Figure size 432x288 with 1 Axes>"
      ]
     },
     "metadata": {
      "needs_background": "light"
     },
     "output_type": "display_data"
    }
   ],
   "source": [
    "# barplot of F1 test scores\n",
    "f1_toplot = list(test_metrics['F1 Score'])\n",
    "model_list = list(test_metrics['Model'])\n",
    "\n",
    "plt.barh(model_list, f1_toplot)\n",
    "plt.xlabel('Test F1 Score')\n",
    "plt.title('Test F1 Scores of the Different Models')\n",
    "plt.show()"
   ]
  },
  {
   "cell_type": "code",
   "execution_count": 39,
   "metadata": {},
   "outputs": [],
   "source": [
    "# Save the data set as pickle file\n",
    "g_drive = \"G:/My Drive/ADS-599_Cap_Stone/Capstone_data/\"\n",
    "\n",
    "training_metrics.to_pickle(g_drive + \"training_metrics.pkl\") \n",
    "test_metrics.to_pickle(g_drive + \"test_metrics.pkl\") "
   ]
  }
 ],
 "metadata": {
  "kernelspec": {
   "display_name": "Python 3",
   "language": "python",
   "name": "python3"
  },
  "language_info": {
   "codemirror_mode": {
    "name": "ipython",
    "version": 3
   },
   "file_extension": ".py",
   "mimetype": "text/x-python",
   "name": "python",
   "nbconvert_exporter": "python",
   "pygments_lexer": "ipython3",
   "version": "3.9.1"
  },
  "orig_nbformat": 4
 },
 "nbformat": 4,
 "nbformat_minor": 2
}
