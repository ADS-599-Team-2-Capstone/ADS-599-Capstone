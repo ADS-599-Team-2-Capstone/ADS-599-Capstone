{
 "cells": [
  {
   "attachments": {},
   "cell_type": "markdown",
   "metadata": {},
   "source": [
    "# Modeling"
   ]
  },
  {
   "cell_type": "code",
   "execution_count": 1,
   "metadata": {},
   "outputs": [],
   "source": [
    "# Importing Libraries\n",
    "import numpy as np\n",
    "import pandas as pd\n",
    "import pickle\n",
    "\n",
    "from sklearn.metrics import roc_auc_score\n",
    "from sklearn.metrics import auc\n",
    "from sklearn.metrics import roc_curve\n",
    "from sklearn.metrics import confusion_matrix\n",
    "from sklearn.metrics import classification_report\n",
    "from sklearn.metrics import ConfusionMatrixDisplay\n",
    "\n",
    "from sklearn.model_selection import GridSearchCV\n",
    "\n",
    "from sklearn.naive_bayes import MultinomialNB\n",
    "from sklearn.linear_model import LogisticRegression\n",
    "from sklearn.ensemble import GradientBoostingClassifier\n",
    "from sklearn.ensemble import RandomForestClassifier\n",
    "\n",
    "import matplotlib.pyplot as plt\n",
    "import seaborn as sns"
   ]
  },
  {
   "cell_type": "code",
   "execution_count": 2,
   "metadata": {},
   "outputs": [
    {
     "data": {
      "text/plain": [
       "5512"
      ]
     },
     "execution_count": 2,
     "metadata": {},
     "output_type": "execute_result"
    }
   ],
   "source": [
    "# Get List of Non-Text Columns\n",
    "with open('nontext_col_list.pkl', 'rb') as f:\n",
    "    nontext_col_list = pickle.load(f)\n",
    "\n",
    "len(nontext_col_list)"
   ]
  },
  {
   "cell_type": "code",
   "execution_count": 3,
   "metadata": {},
   "outputs": [],
   "source": [
    "# Get the data\n",
    "g_drive = \"G:/My Drive/ADS-599_Cap_Stone/Capstone_data/\"\n",
    "\n",
    "X_test = pd.read_pickle(g_drive + \"X_test\" +\".pkl\") \n",
    "y_test = pd.read_pickle(g_drive + \"y_test\" +\".pkl\") \n",
    "# X_train = pd.read_pickle(g_drive + \"X_train\" +\".pkl\") \n",
    "# y_train = pd.read_pickle(g_drive + \"y_train\" +\".pkl\")\n",
    "X_sm_train = pd.read_pickle(g_drive + \"X_sm_train\" +\".pkl\") \n",
    "y_sm_train = pd.read_pickle(g_drive + \"y_sm_train\" +\".pkl\")\n"
   ]
  },
  {
   "cell_type": "code",
   "execution_count": 4,
   "metadata": {},
   "outputs": [],
   "source": [
    "# Helper function to get classification model results as a dataframe\n",
    "def model_stats(model_name: str, grid_search, x: pd.DataFrame, y: pd.Series) -> pd.DataFrame:\n",
    "    predictions = grid_search.predict(x)\n",
    "    cm = confusion_matrix(y, predictions)\n",
    "    TN, FP, FN, TP = cm.flatten()\n",
    "    data = {}\n",
    "    data[\"Model\"] = [model_name]\n",
    "    data[\"Accuracy\"] = [(TP + TN) / (TN + FP + FN + TP)]\n",
    "    data[\"AUC\"] = roc_auc_score(y, grid_search.predict_proba(x)[:,1])\n",
    "    Precision = (TP / (TP + FP)) \n",
    "    data[\"Precision\"] = Precision\n",
    "    Recall = (TP / (TP + FN)) \n",
    "    data[\"Recall\"] = Recall\n",
    "    data[\"F1 Score\"] = [(2 * Precision * Recall) / (Precision + Recall)] \n",
    "    return [pd.DataFrame(data), cm]"
   ]
  },
  {
   "attachments": {},
   "cell_type": "markdown",
   "metadata": {},
   "source": [
    "# Models Without Text Features\n",
    "## Naive Bayes"
   ]
  },
  {
   "cell_type": "code",
   "execution_count": 5,
   "metadata": {},
   "outputs": [],
   "source": [
    "# Remove text columns from the data\n",
    "X_test_no_text = X_test[nontext_col_list]\n",
    "X_sm_train_no_text = X_sm_train[nontext_col_list]"
   ]
  },
  {
   "cell_type": "code",
   "execution_count": 6,
   "metadata": {},
   "outputs": [
    {
     "name": "stdout",
     "output_type": "stream",
     "text": [
      "Fitting 3 folds for each of 3 candidates, totalling 9 fits\n"
     ]
    }
   ],
   "source": [
    "# Naive Bayes\n",
    "# Define the model and parameter grid.\n",
    "model = MultinomialNB()\n",
    "grid = {\"alpha\": [0.002,0.001,0.0005]}\n",
    "\n",
    "# Create the grid search object\n",
    "nb_nt_grid_search = GridSearchCV(estimator=model, \n",
    "                              param_grid=grid,\n",
    "                              cv=3,\n",
    "                              return_train_score=True,\n",
    "                              verbose=2,\n",
    "                              n_jobs=-1,\n",
    "                              scoring='f1', \n",
    "                              error_score='raise'\n",
    "                              )\n",
    "# use sklearn.metrics.get_scorer_names() to get a list of all available scorers\n",
    "\n",
    "# Fit the model\n",
    "nb_nt_result = nb_nt_grid_search.fit(X_sm_train_no_text, y_sm_train)\n",
    "\n",
    "# Capture the results\n",
    "nb_nt_train_metrics = model_stats(\"Naive Bayes - w/o Text\", nb_nt_grid_search, \n",
    "                                  x = X_sm_train_no_text, y = y_sm_train)\n",
    "nb_nt_test_metrics = model_stats(\"Naive Bayes - w/o Text\", nb_nt_grid_search, \n",
    "                                 x = X_test_no_text, y = y_test)"
   ]
  },
  {
   "cell_type": "code",
   "execution_count": 7,
   "metadata": {},
   "outputs": [
    {
     "name": "stdout",
     "output_type": "stream",
     "text": [
      "Average of the best F1 Score in the various folds during cross validation = 0.8434263314711993\n",
      "The best parameters found during 3-fold cross validation is = {'alpha': 0.002}\n"
     ]
    }
   ],
   "source": [
    "# Show the results of the grid search.\n",
    "print(\"Average of the best F1 Score in the various folds during cross validation =\", nb_nt_result.best_score_)\n",
    "print(\"The best parameters found during 3-fold cross validation is =\", nb_nt_result.best_params_)"
   ]
  },
  {
   "cell_type": "code",
   "execution_count": 8,
   "metadata": {},
   "outputs": [
    {
     "name": "stdout",
     "output_type": "stream",
     "text": [
      "                  precision    recall  f1-score   support\n",
      "\n",
      "Good Job Posting       0.99      0.92      0.95      3344\n",
      "Fake Job Posting       0.34      0.74      0.46       176\n",
      "\n",
      "        accuracy                           0.91      3520\n",
      "       macro avg       0.66      0.83      0.71      3520\n",
      "    weighted avg       0.95      0.91      0.93      3520\n",
      "\n"
     ]
    }
   ],
   "source": [
    "# Classification Report\n",
    "print(\n",
    "    classification_report(\n",
    "        y_test,\n",
    "        nb_nt_grid_search.predict(X_test_no_text),\n",
    "        target_names=[\"Good Job Posting\", \"Fake Job Posting\"]\n",
    "    )\n",
    ")"
   ]
  },
  {
   "cell_type": "code",
   "execution_count": 9,
   "metadata": {},
   "outputs": [
    {
     "data": {
      "image/png": "[encoded data removed]",
      "text/plain": [
       "<Figure size 432x288 with 2 Axes>"
      ]
     },
     "metadata": {
      "needs_background": "light"
     },
     "output_type": "display_data"
    }
   ],
   "source": [
    "# Training Set Confusion Matrix\n",
    "ConfusionMatrixDisplay.from_estimator(\n",
    "    nb_nt_grid_search,\n",
    "    X_sm_train_no_text,\n",
    "    y_sm_train,\n",
    "    display_labels=[\"Good Job Posting\", \"Fake Job Posting\"],\n",
    ");"
   ]
  },
  {
   "cell_type": "code",
   "execution_count": 10,
   "metadata": {},
   "outputs": [
    {
     "data": {
      "image/png": "[encoded data removed]",
      "text/plain": [
       "<Figure size 432x288 with 2 Axes>"
      ]
     },
     "metadata": {
      "needs_background": "light"
     },
     "output_type": "display_data"
    }
   ],
   "source": [
    "# Test Set Confusion Matrix\n",
    "ConfusionMatrixDisplay.from_estimator(\n",
    "    nb_nt_grid_search,\n",
    "    X_test_no_text,\n",
    "    y_test,\n",
    "    display_labels=[\"Good Job Posting\", \"Fake Job Posting\"],\n",
    ");"
   ]
  },
  {
   "attachments": {},
   "cell_type": "markdown",
   "metadata": {},
   "source": [
    "## Naive Bayes without Text Overview:\n",
    "The data trained relatively well with F1 score of .84 at an alpha level of .002.\n",
    "\n",
    "Testing on new data did better with good job posts (majority class in test group) achieving .95 F1 score.\n",
    "\n",
    "However, the fake posts (minority class in the test group) did worse than training having only achieved F1 of .46."
   ]
  },
  {
   "attachments": {},
   "cell_type": "markdown",
   "metadata": {},
   "source": [
    "## Logistic Regression"
   ]
  },
  {
   "cell_type": "code",
   "execution_count": 11,
   "metadata": {},
   "outputs": [
    {
     "name": "stdout",
     "output_type": "stream",
     "text": [
      "Fitting 3 folds for each of 3 candidates, totalling 9 fits\n"
     ]
    }
   ],
   "source": [
    "# Logistic Regression\n",
    "# Define the model and parameter grid.\n",
    "model = LogisticRegression()\n",
    "solvers = ['liblinear']\n",
    "penalty = ['l2']\n",
    "c_values = [10000, 5000, 1000]\n",
    "grid = dict(solver=solvers,penalty=penalty,C=c_values)\n",
    "\n",
    "# define grid search\n",
    "lr_nt_grid_search = GridSearchCV(estimator=model, \n",
    "                              param_grid=grid, \n",
    "                              cv=3,\n",
    "                              return_train_score=True,\n",
    "                              verbose=2,\n",
    "                              n_jobs=-1,\n",
    "                              scoring='f1',\n",
    "                              error_score='raise'\n",
    "                              )\n",
    "# use sklearn.metrics.get_scorer_names() to get a list of all available scorers\n",
    "\n",
    "# Fit the model\n",
    "lr_nt_result = lr_nt_grid_search.fit(X_sm_train_no_text, y_sm_train)\n",
    "\n",
    "# Capture the results\n",
    "lr_nt_train_metrics = model_stats(\"Logistic Regression - w/o Text\", lr_nt_grid_search, \n",
    "                                  x = X_sm_train_no_text, y = y_sm_train)\n",
    "lr_nt_test_metrics = model_stats(\"Logistic Regression - w/o Text\", lr_nt_grid_search, \n",
    "                                 x = X_test_no_text, y = y_test)"
   ]
  },
  {
   "cell_type": "code",
   "execution_count": 12,
   "metadata": {},
   "outputs": [
    {
     "name": "stdout",
     "output_type": "stream",
     "text": [
      "Average of the best F1 Score in the various folds during cross validation = 0.938838408004596\n",
      "The best parameters found during 3-fold cross validation is = {'C': 10000, 'penalty': 'l2', 'solver': 'liblinear'}\n"
     ]
    }
   ],
   "source": [
    "# Show the results of the grid search.\n",
    "print(\"Average of the best F1 Score in the various folds during cross validation =\", lr_nt_result.best_score_)\n",
    "print(\"The best parameters found during 3-fold cross validation is =\", lr_nt_result.best_params_)"
   ]
  },
  {
   "cell_type": "code",
   "execution_count": 13,
   "metadata": {},
   "outputs": [
    {
     "name": "stdout",
     "output_type": "stream",
     "text": [
      "                  precision    recall  f1-score   support\n",
      "\n",
      "Good Job Posting       0.99      0.91      0.95      3344\n",
      "Fake Job Posting       0.31      0.77      0.45       176\n",
      "\n",
      "        accuracy                           0.90      3520\n",
      "       macro avg       0.65      0.84      0.70      3520\n",
      "    weighted avg       0.95      0.90      0.92      3520\n",
      "\n"
     ]
    }
   ],
   "source": [
    "# Classification Report\n",
    "print(\n",
    "    classification_report(\n",
    "        y_test,\n",
    "        lr_nt_grid_search.predict(X_test_no_text),\n",
    "        target_names=[\"Good Job Posting\", \"Fake Job Posting\"]\n",
    "    )\n",
    ")"
   ]
  },
  {
   "cell_type": "code",
   "execution_count": 14,
   "metadata": {},
   "outputs": [
    {
     "data": {
      "image/png": "[encoded data removed]",
      "text/plain": [
       "<Figure size 432x288 with 2 Axes>"
      ]
     },
     "metadata": {
      "needs_background": "light"
     },
     "output_type": "display_data"
    }
   ],
   "source": [
    "# Training Set Confusion Matrix\n",
    "ConfusionMatrixDisplay.from_estimator(\n",
    "    lr_nt_grid_search,\n",
    "    X_sm_train_no_text,\n",
    "    y_sm_train,\n",
    "    display_labels=[\"Good Job Posting\", \"Fake Job Posting\"],\n",
    ");"
   ]
  },
  {
   "cell_type": "code",
   "execution_count": 15,
   "metadata": {},
   "outputs": [
    {
     "data": {
      "image/png": "[encoded data removed]",
      "text/plain": [
       "<Figure size 432x288 with 2 Axes>"
      ]
     },
     "metadata": {
      "needs_background": "light"
     },
     "output_type": "display_data"
    }
   ],
   "source": [
    "# Test Set Confusion Matrix\n",
    "ConfusionMatrixDisplay.from_estimator(\n",
    "    lr_nt_grid_search,\n",
    "    X_test_no_text,\n",
    "    y_test,\n",
    "    display_labels=[\"Good Job Posting\", \"Fake Job Posting\"],\n",
    ");"
   ]
  },
  {
   "attachments": {},
   "cell_type": "markdown",
   "metadata": {},
   "source": [
    "## Logistic Regression without Text Overview:\n",
    "The data trained well with F1 score of .94 when using C-value of 10000, l2 penalty, and the liblinear solver method.\n",
    "\n",
    "Testing on new data good job posts (majority class in test group) did slightly better at .95. \n",
    "\n",
    "However, the fake posts (minority class in the test group) tested worse at an F1 of .44."
   ]
  },
  {
   "attachments": {},
   "cell_type": "markdown",
   "metadata": {},
   "source": [
    "# Models With Text Features\n",
    "## Naive Bayes"
   ]
  },
  {
   "cell_type": "code",
   "execution_count": 16,
   "metadata": {},
   "outputs": [
    {
     "name": "stdout",
     "output_type": "stream",
     "text": [
      "Fitting 3 folds for each of 3 candidates, totalling 9 fits\n"
     ]
    }
   ],
   "source": [
    "# Naive Bayes\n",
    "# Define the model and parameter grid.\n",
    "model = MultinomialNB()\n",
    "grid = {\"alpha\": [0.002,0.001,0.0005]}\n",
    "\n",
    "# Create the grid search object\n",
    "nb_grid_search = GridSearchCV(estimator=model, \n",
    "                              param_grid=grid,\n",
    "                              cv=3,\n",
    "                              return_train_score=True,\n",
    "                              verbose=2,\n",
    "                              n_jobs=-1,\n",
    "                              scoring='f1', \n",
    "                              error_score='raise'\n",
    "                              )\n",
    "# use sklearn.metrics.get_scorer_names() to get a list of all available scorers\n",
    "\n",
    "# Fit the model\n",
    "nb_result = nb_grid_search.fit(X_sm_train, y_sm_train)\n",
    "\n",
    "# Capture the results\n",
    "nb_train_metrics = model_stats(\"Naive Bayes\", nb_grid_search, x = X_sm_train, y = y_sm_train)\n",
    "nb_test_metrics = model_stats(\"Naive Bayes\", nb_grid_search, x = X_test, y = y_test)"
   ]
  },
  {
   "cell_type": "code",
   "execution_count": 17,
   "metadata": {},
   "outputs": [
    {
     "name": "stdout",
     "output_type": "stream",
     "text": [
      "Average of the best F1 Score in the various folds during cross validation = 0.9704634101958293\n",
      "The best parameters found during 3-fold cross validation is = {'alpha': 0.0005}\n"
     ]
    }
   ],
   "source": [
    "# Show the results of the grid search.\n",
    "print(\"Average of the best F1 Score in the various folds during cross validation =\", nb_result.best_score_)\n",
    "print(\"The best parameters found during 3-fold cross validation is =\", nb_result.best_params_)"
   ]
  },
  {
   "cell_type": "code",
   "execution_count": 18,
   "metadata": {},
   "outputs": [
    {
     "name": "stdout",
     "output_type": "stream",
     "text": [
      "                  precision    recall  f1-score   support\n",
      "\n",
      "Good Job Posting       0.99      0.99      0.99      3344\n",
      "Fake Job Posting       0.76      0.77      0.76       176\n",
      "\n",
      "        accuracy                           0.98      3520\n",
      "       macro avg       0.87      0.88      0.88      3520\n",
      "    weighted avg       0.98      0.98      0.98      3520\n",
      "\n"
     ]
    }
   ],
   "source": [
    "# Classification Report\n",
    "print(\n",
    "    classification_report(\n",
    "        y_test,\n",
    "        nb_grid_search.predict(X_test),\n",
    "        target_names=[\"Good Job Posting\", \"Fake Job Posting\"]\n",
    "    )\n",
    ")"
   ]
  },
  {
   "cell_type": "code",
   "execution_count": 19,
   "metadata": {},
   "outputs": [
    {
     "data": {
      "image/png": "[encoded data removed]",
      "text/plain": [
       "<Figure size 432x288 with 2 Axes>"
      ]
     },
     "metadata": {
      "needs_background": "light"
     },
     "output_type": "display_data"
    }
   ],
   "source": [
    "# Training Set Confusion Matrix\n",
    "ConfusionMatrixDisplay.from_estimator(\n",
    "    nb_grid_search,\n",
    "    X_sm_train,\n",
    "    y_sm_train,\n",
    "    display_labels=[\"Good Job Posting\", \"Fake Job Posting\"],\n",
    ");"
   ]
  },
  {
   "cell_type": "code",
   "execution_count": 20,
   "metadata": {},
   "outputs": [
    {
     "data": {
      "image/png": "[encoded data removed]",
      "text/plain": [
       "<Figure size 432x288 with 2 Axes>"
      ]
     },
     "metadata": {
      "needs_background": "light"
     },
     "output_type": "display_data"
    }
   ],
   "source": [
    "# Test Set Confusion Matrix\n",
    "ConfusionMatrixDisplay.from_estimator(\n",
    "    nb_grid_search,\n",
    "    X_test,\n",
    "    y_test,\n",
    "    display_labels=[\"Good Job Posting\", \"Fake Job Posting\"],\n",
    ");"
   ]
  },
  {
   "attachments": {},
   "cell_type": "markdown",
   "metadata": {},
   "source": [
    "## Naive Bayes with Text Overview:\n",
    "The data trained well with F1 score of .97 when using an alpha value of .002.\n",
    "\n",
    "Testing on new data good job posts (majority class in test group) did better at an F1 of .99. \n",
    "\n",
    "However, the fake posts (minority class in the test group) tested worse at an F1 of .77. Despite being relatively low, this value is markedly higher than the Naive Bayes without text data."
   ]
  },
  {
   "attachments": {},
   "cell_type": "markdown",
   "metadata": {},
   "source": [
    "# Logistic Regression"
   ]
  },
  {
   "cell_type": "code",
   "execution_count": 21,
   "metadata": {},
   "outputs": [
    {
     "name": "stdout",
     "output_type": "stream",
     "text": [
      "Fitting 3 folds for each of 3 candidates, totalling 9 fits\n"
     ]
    }
   ],
   "source": [
    "# Logistic Regression\n",
    "# Define the model and parameter grid.\n",
    "model = LogisticRegression()\n",
    "solvers = ['liblinear']\n",
    "penalty = ['l2']\n",
    "c_values = [10000, 5000, 1000]\n",
    "grid = dict(solver=solvers,penalty=penalty,C=c_values)\n",
    "\n",
    "# define grid search\n",
    "lr_grid_search = GridSearchCV(estimator=model, \n",
    "                              param_grid=grid, \n",
    "                              cv=3,\n",
    "                              return_train_score=True,\n",
    "                              verbose=2,\n",
    "                              n_jobs=-1,\n",
    "                              scoring='f1',\n",
    "                              error_score='raise'\n",
    "                              )\n",
    "# use sklearn.metrics.get_scorer_names() to get a list of all available scorers\n",
    "\n",
    "# Fit the model\n",
    "lr_result = lr_grid_search.fit(X_sm_train, y_sm_train)\n",
    "\n",
    "# Capture the results\n",
    "lr_train_metrics = model_stats(\"Logistic Regression\", lr_grid_search, x = X_sm_train, y = y_sm_train)\n",
    "lr_test_metrics = model_stats(\"Logistic Regression\", lr_grid_search, x = X_test, y = y_test)"
   ]
  },
  {
   "cell_type": "code",
   "execution_count": 22,
   "metadata": {},
   "outputs": [
    {
     "name": "stdout",
     "output_type": "stream",
     "text": [
      "Average of the best F1 Score in the various folds during cross validation = 0.9910298427524231\n",
      "The best parameters found during 3-fold cross validation is = {'C': 5000, 'penalty': 'l2', 'solver': 'liblinear'}\n"
     ]
    }
   ],
   "source": [
    "# Show the results of the grid search.\n",
    "print(\"Average of the best F1 Score in the various folds during cross validation =\", lr_result.best_score_)\n",
    "print(\"The best parameters found during 3-fold cross validation is =\", lr_result.best_params_)"
   ]
  },
  {
   "cell_type": "code",
   "execution_count": 23,
   "metadata": {},
   "outputs": [
    {
     "name": "stdout",
     "output_type": "stream",
     "text": [
      "                  precision    recall  f1-score   support\n",
      "\n",
      "Good Job Posting       0.99      0.99      0.99      3344\n",
      "Fake Job Posting       0.82      0.87      0.84       176\n",
      "\n",
      "        accuracy                           0.98      3520\n",
      "       macro avg       0.91      0.93      0.92      3520\n",
      "    weighted avg       0.98      0.98      0.98      3520\n",
      "\n"
     ]
    }
   ],
   "source": [
    "# Classification Report\n",
    "print(\n",
    "    classification_report(\n",
    "        y_test,\n",
    "        lr_result.predict(X_test),\n",
    "        target_names=[\"Good Job Posting\", \"Fake Job Posting\"]\n",
    "    )\n",
    ")"
   ]
  },
  {
   "cell_type": "code",
   "execution_count": 24,
   "metadata": {},
   "outputs": [
    {
     "data": {
      "image/png": "[encoded data removed]",
      "text/plain": [
       "<Figure size 432x288 with 2 Axes>"
      ]
     },
     "metadata": {
      "needs_background": "light"
     },
     "output_type": "display_data"
    }
   ],
   "source": [
    "# Training Set Confusion Matrix\n",
    "ConfusionMatrixDisplay.from_estimator(\n",
    "    lr_grid_search,\n",
    "    X_sm_train,\n",
    "    y_sm_train,\n",
    "    display_labels=[\"Good Job Posting\", \"Fake Job Posting\"],\n",
    ");"
   ]
  },
  {
   "cell_type": "code",
   "execution_count": 25,
   "metadata": {},
   "outputs": [
    {
     "data": {
      "image/png": "[encoded data removed]",
      "text/plain": [
       "<Figure size 432x288 with 2 Axes>"
      ]
     },
     "metadata": {
      "needs_background": "light"
     },
     "output_type": "display_data"
    }
   ],
   "source": [
    "# Test Set Confusion Matrix\n",
    "ConfusionMatrixDisplay.from_estimator(\n",
    "    lr_grid_search,\n",
    "    X_test,\n",
    "    y_test,\n",
    "    display_labels=[\"Good Job Posting\", \"Fake Job Posting\"],\n",
    ");"
   ]
  },
  {
   "attachments": {},
   "cell_type": "markdown",
   "metadata": {},
   "source": [
    "## Logistic Regression with Text Overview:\n",
    "The data trained well with F1 score of .99 when using a C-value of 5000, the l2 penalty, and the liblinear solver.\n",
    "\n",
    "Testing on new data good job posts (majority class in test group) remained the same as overall training with an F1 of .99. \n",
    "\n",
    "Testing on the fake posts (minority class in the test group) tested slightly worse at an F1 of .88. While technically lower than the training value, this score is impressive and is double that of the Logistic Regression model on non-text data."
   ]
  },
  {
   "attachments": {},
   "cell_type": "markdown",
   "metadata": {},
   "source": [
    "# Gradiant Boosting Machine for Classification"
   ]
  },
  {
   "cell_type": "code",
   "execution_count": 26,
   "metadata": {},
   "outputs": [
    {
     "name": "stdout",
     "output_type": "stream",
     "text": [
      "Fitting 3 folds for each of 10 candidates, totalling 30 fits\n"
     ]
    }
   ],
   "source": [
    "# Gradient Boosting Machine for Classification\n",
    "# Define the model and parameter grid.\n",
    "model = GradientBoostingClassifier(learning_rate=0.1, n_estimators=60, max_features='sqrt', subsample=0.8, random_state=10)\n",
    "grid = {'max_depth':range(12,16,2), \n",
    "        'min_samples_split':range(100,201,25)\n",
    "        }\n",
    "\n",
    "# Create the grid search object\n",
    "gbm_grid_search = GridSearchCV(estimator=model, \n",
    "                               param_grid=grid,\n",
    "                               cv=3,\n",
    "                               return_train_score=True,\n",
    "                               verbose=2,\n",
    "                               n_jobs=-1,\n",
    "                               scoring='f1', # 'recall' # 'precision' # 'recall' # 'roc_auc' # 'accuracy' # \n",
    "                               error_score='raise'\n",
    "                               )\n",
    "# use sklearn.metrics.get_scorer_names() to get a list of all available scorers\n",
    "\n",
    "# Fit the model\n",
    "gbm_result = gbm_grid_search.fit(X_sm_train, y_sm_train)\n",
    "\n",
    "# Capture the results\n",
    "gbm_train_metrics = model_stats(\"Gradient Boosting Machine\", gbm_grid_search, x = X_sm_train, y = y_sm_train)\n",
    "gbm_test_metrics = model_stats(\"Gradient Boosting Machine\", gbm_grid_search, x = X_test, y = y_test)"
   ]
  },
  {
   "cell_type": "code",
   "execution_count": 27,
   "metadata": {},
   "outputs": [
    {
     "name": "stdout",
     "output_type": "stream",
     "text": [
      "Average of the best F1 Score in the various folds during cross validation = 0.992232927701918\n",
      "The best parameters found during 3-fold cross validation is = {'max_depth': 14, 'min_samples_split': 100}\n"
     ]
    }
   ],
   "source": [
    "print(\"Average of the best F1 Score in the various folds during cross validation =\", gbm_result.best_score_)\n",
    "print(\"The best parameters found during 3-fold cross validation is =\", gbm_result.best_params_)"
   ]
  },
  {
   "cell_type": "code",
   "execution_count": 28,
   "metadata": {},
   "outputs": [
    {
     "name": "stdout",
     "output_type": "stream",
     "text": [
      "                  precision    recall  f1-score   support\n",
      "\n",
      "Good Job Posting       0.99      0.99      0.99      3344\n",
      "Fake Job Posting       0.82      0.77      0.80       176\n",
      "\n",
      "        accuracy                           0.98      3520\n",
      "       macro avg       0.91      0.88      0.89      3520\n",
      "    weighted avg       0.98      0.98      0.98      3520\n",
      "\n"
     ]
    }
   ],
   "source": [
    "# Classification Report\n",
    "print(\n",
    "    classification_report(\n",
    "        y_test,\n",
    "        gbm_result.predict(X_test),\n",
    "        target_names=[\"Good Job Posting\", \"Fake Job Posting\"]\n",
    "    )\n",
    ")"
   ]
  },
  {
   "cell_type": "code",
   "execution_count": 29,
   "metadata": {},
   "outputs": [
    {
     "data": {
      "image/png": "[encoded data removed]",
      "text/plain": [
       "<Figure size 432x288 with 2 Axes>"
      ]
     },
     "metadata": {
      "needs_background": "light"
     },
     "output_type": "display_data"
    }
   ],
   "source": [
    "# Training Set Confusion Matrix\n",
    "ConfusionMatrixDisplay.from_estimator(\n",
    "    gbm_grid_search,\n",
    "    X_sm_train,\n",
    "    y_sm_train,\n",
    "    display_labels=[\"Good Job Posting\", \"Fake Job Posting\"],\n",
    ");"
   ]
  },
  {
   "cell_type": "code",
   "execution_count": 30,
   "metadata": {},
   "outputs": [
    {
     "data": {
      "image/png": "[encoded data removed]",
      "text/plain": [
       "<Figure size 432x288 with 2 Axes>"
      ]
     },
     "metadata": {
      "needs_background": "light"
     },
     "output_type": "display_data"
    }
   ],
   "source": [
    "# Test Set Confusion Matrix\n",
    "ConfusionMatrixDisplay.from_estimator(\n",
    "    gbm_grid_search,\n",
    "    X_test,\n",
    "    y_test,\n",
    "    display_labels=[\"Good Job Posting\", \"Fake Job Posting\"],\n",
    ");"
   ]
  },
  {
   "attachments": {},
   "cell_type": "markdown",
   "metadata": {},
   "source": [
    "## Gradient Boosting Machine for Classifiers with Text Overview:\n",
    "The data trained well with F1 score of .99 when using a max depth of 14 and minimum samples to split of 100.\n",
    "\n",
    "Testing on new data good job posts (majority class in test group) remained the same as overall training with an F1 of .99. \n",
    "\n",
    "Testing on the fake posts (minority class in the test group) tested slightly worse at an F1 of .81."
   ]
  },
  {
   "attachments": {},
   "cell_type": "markdown",
   "metadata": {},
   "source": [
    "# Random Forest Classifier\n"
   ]
  },
  {
   "cell_type": "code",
   "execution_count": 31,
   "metadata": {},
   "outputs": [],
   "source": [
    "# Random Forest Classifier\n",
    "# Define the model and parameter grid.\n",
    "model = RandomForestClassifier(n_estimators = 100)  \n",
    "grid = {\n",
    "        'bootstrap': [True, False],\n",
    "        'max_features': ['sqrt']\n",
    "        }\n",
    "\n",
    "# Create the grid search object\n",
    "rf_grid_search = GridSearchCV(estimator=model, \n",
    "                               param_grid=grid, \n",
    "                               n_jobs=-1,\n",
    "                               cv=3, # 3-fold cross-validation\n",
    "                               scoring='f1',\n",
    "                               error_score='raise')\n",
    "# use sklearn.metrics.get_scorer_names() to get a list of all available scorers\n",
    "\n",
    "# Fit the model\n",
    "rf_result = rf_grid_search.fit(X_sm_train, y_sm_train)\n",
    "\n",
    "# Capture the results\n",
    "rf_train_metrics = model_stats(\"Random Forest\", rf_grid_search, x = X_sm_train, y = y_sm_train)\n",
    "rf_test_metrics = model_stats(\"Random Forest\", rf_grid_search, x = X_test, y = y_test)"
   ]
  },
  {
   "cell_type": "code",
   "execution_count": 32,
   "metadata": {},
   "outputs": [
    {
     "name": "stdout",
     "output_type": "stream",
     "text": [
      "Average of the best F1 Score in the various folds during cross validation = 0.9980152057560615\n",
      "The best parameters found during 3-fold cross validation is = {'bootstrap': False, 'max_features': 'sqrt'}\n"
     ]
    }
   ],
   "source": [
    "print(\"Average of the best F1 Score in the various folds during cross validation =\", rf_result.best_score_)\n",
    "print(\"The best parameters found during 3-fold cross validation is =\", rf_result.best_params_)"
   ]
  },
  {
   "cell_type": "code",
   "execution_count": 33,
   "metadata": {},
   "outputs": [
    {
     "name": "stdout",
     "output_type": "stream",
     "text": [
      "                  precision    recall  f1-score   support\n",
      "\n",
      "Good Job Posting       0.98      1.00      0.99      3344\n",
      "Fake Job Posting       1.00      0.61      0.76       176\n",
      "\n",
      "        accuracy                           0.98      3520\n",
      "       macro avg       0.99      0.80      0.87      3520\n",
      "    weighted avg       0.98      0.98      0.98      3520\n",
      "\n"
     ]
    }
   ],
   "source": [
    "# Classification Report\n",
    "print(\n",
    "    classification_report(\n",
    "        y_test,\n",
    "        rf_grid_search.predict(X_test),\n",
    "        target_names=[\"Good Job Posting\", \"Fake Job Posting\"]\n",
    "    )\n",
    ")"
   ]
  },
  {
   "cell_type": "code",
   "execution_count": 34,
   "metadata": {},
   "outputs": [
    {
     "data": {
      "image/png": "[encoded data removed]",
      "text/plain": [
       "<Figure size 432x288 with 2 Axes>"
      ]
     },
     "metadata": {
      "needs_background": "light"
     },
     "output_type": "display_data"
    }
   ],
   "source": [
    "# Training Set Confusion Matrix\n",
    "ConfusionMatrixDisplay.from_estimator(\n",
    "    rf_grid_search,\n",
    "    X_sm_train,\n",
    "    y_sm_train,\n",
    "    display_labels=[\"Good Job Posting\", \"Fake Job Posting\"],\n",
    ");"
   ]
  },
  {
   "cell_type": "code",
   "execution_count": 35,
   "metadata": {},
   "outputs": [
    {
     "data": {
      "image/png": "[encoded data removed]",
      "text/plain": [
       "<Figure size 432x288 with 2 Axes>"
      ]
     },
     "metadata": {
      "needs_background": "light"
     },
     "output_type": "display_data"
    }
   ],
   "source": [
    "# Test Set Confusion Matrix\n",
    "ConfusionMatrixDisplay.from_estimator(\n",
    "    rf_grid_search,\n",
    "    X_test,\n",
    "    y_test,\n",
    "    display_labels=[\"Good Job Posting\", \"Fake Job Posting\"],\n",
    ");"
   ]
  },
  {
   "attachments": {},
   "cell_type": "markdown",
   "metadata": {},
   "source": [
    "## Random Forest with Text Overview:\n",
    "The data trained well with F1 score of .99 when using a 'bootstrap' set as False and the max features set to 'sqrt'.\n",
    "\n",
    "Testing on new data good job posts (majority class in test group) remained the same as overall training with an F1 of .99. \n",
    "\n",
    "Testing on the fake posts (minority class in the test group) tested worse at an F1 of .76."
   ]
  },
  {
   "attachments": {},
   "cell_type": "markdown",
   "metadata": {},
   "source": [
    "# Model Results"
   ]
  },
  {
   "cell_type": "code",
   "execution_count": 36,
   "metadata": {},
   "outputs": [
    {
     "data": {
      "text/html": [
       "<div>\n",
       "<style scoped>\n",
       "    .dataframe tbody tr th:only-of-type {\n",
       "        vertical-align: middle;\n",
       "    }\n",
       "\n",
       "    .dataframe tbody tr th {\n",
       "        vertical-align: top;\n",
       "    }\n",
       "\n",
       "    .dataframe thead th {\n",
       "        text-align: right;\n",
       "    }\n",
       "</style>\n",
       "<table border=\"1\" class=\"dataframe\">\n",
       "  <thead>\n",
       "    <tr style=\"text-align: right;\">\n",
       "      <th></th>\n",
       "      <th>Model</th>\n",
       "      <th>Accuracy</th>\n",
       "      <th>AUC</th>\n",
       "      <th>Precision</th>\n",
       "      <th>Recall</th>\n",
       "      <th>F1 Score</th>\n",
       "    </tr>\n",
       "  </thead>\n",
       "  <tbody>\n",
       "    <tr>\n",
       "      <th>0</th>\n",
       "      <td>Naive Bayes - w/o Text</td>\n",
       "      <td>0.866259</td>\n",
       "      <td>0.983267</td>\n",
       "      <td>0.952179</td>\n",
       "      <td>0.771252</td>\n",
       "      <td>0.852218</td>\n",
       "    </tr>\n",
       "    <tr>\n",
       "      <th>0</th>\n",
       "      <td>Logistic Regression - w/o Text</td>\n",
       "      <td>0.980297</td>\n",
       "      <td>0.997930</td>\n",
       "      <td>0.973025</td>\n",
       "      <td>0.987984</td>\n",
       "      <td>0.980447</td>\n",
       "    </tr>\n",
       "    <tr>\n",
       "      <th>0</th>\n",
       "      <td>Naive Bayes</td>\n",
       "      <td>0.980185</td>\n",
       "      <td>0.999061</td>\n",
       "      <td>0.994391</td>\n",
       "      <td>0.965818</td>\n",
       "      <td>0.979896</td>\n",
       "    </tr>\n",
       "    <tr>\n",
       "      <th>0</th>\n",
       "      <td>Logistic Regression</td>\n",
       "      <td>1.000000</td>\n",
       "      <td>1.000000</td>\n",
       "      <td>1.000000</td>\n",
       "      <td>1.000000</td>\n",
       "      <td>1.000000</td>\n",
       "    </tr>\n",
       "    <tr>\n",
       "      <th>0</th>\n",
       "      <td>Gradient Boosting Machine</td>\n",
       "      <td>0.999254</td>\n",
       "      <td>0.999990</td>\n",
       "      <td>0.999776</td>\n",
       "      <td>0.998731</td>\n",
       "      <td>0.999253</td>\n",
       "    </tr>\n",
       "    <tr>\n",
       "      <th>0</th>\n",
       "      <td>Random Forest</td>\n",
       "      <td>0.980398</td>\n",
       "      <td>0.992970</td>\n",
       "      <td>1.000000</td>\n",
       "      <td>0.607955</td>\n",
       "      <td>0.756184</td>\n",
       "    </tr>\n",
       "  </tbody>\n",
       "</table>\n",
       "</div>"
      ],
      "text/plain": [
       "                            Model  Accuracy       AUC  Precision    Recall  \\\n",
       "0          Naive Bayes - w/o Text  0.866259  0.983267   0.952179  0.771252   \n",
       "0  Logistic Regression - w/o Text  0.980297  0.997930   0.973025  0.987984   \n",
       "0                     Naive Bayes  0.980185  0.999061   0.994391  0.965818   \n",
       "0             Logistic Regression  1.000000  1.000000   1.000000  1.000000   \n",
       "0       Gradient Boosting Machine  0.999254  0.999990   0.999776  0.998731   \n",
       "0                   Random Forest  0.980398  0.992970   1.000000  0.607955   \n",
       "\n",
       "   F1 Score  \n",
       "0  0.852218  \n",
       "0  0.980447  \n",
       "0  0.979896  \n",
       "0  1.000000  \n",
       "0  0.999253  \n",
       "0  0.756184  "
      ]
     },
     "execution_count": 36,
     "metadata": {},
     "output_type": "execute_result"
    }
   ],
   "source": [
    "# Train Metrics\n",
    "training_metrics = pd.concat([nb_nt_train_metrics[0], lr_nt_train_metrics[0],\n",
    "                              nb_train_metrics[0], lr_train_metrics[0], \n",
    "                              gbm_train_metrics[0], rf_test_metrics[0]], axis=0)\n",
    "training_metrics"
   ]
  },
  {
   "cell_type": "code",
   "execution_count": 37,
   "metadata": {},
   "outputs": [
    {
     "data": {
      "text/html": [
       "<div>\n",
       "<style scoped>\n",
       "    .dataframe tbody tr th:only-of-type {\n",
       "        vertical-align: middle;\n",
       "    }\n",
       "\n",
       "    .dataframe tbody tr th {\n",
       "        vertical-align: top;\n",
       "    }\n",
       "\n",
       "    .dataframe thead th {\n",
       "        text-align: right;\n",
       "    }\n",
       "</style>\n",
       "<table border=\"1\" class=\"dataframe\">\n",
       "  <thead>\n",
       "    <tr style=\"text-align: right;\">\n",
       "      <th></th>\n",
       "      <th>Model</th>\n",
       "      <th>Accuracy</th>\n",
       "      <th>AUC</th>\n",
       "      <th>Precision</th>\n",
       "      <th>Recall</th>\n",
       "      <th>F1 Score</th>\n",
       "    </tr>\n",
       "  </thead>\n",
       "  <tbody>\n",
       "    <tr>\n",
       "      <th>0</th>\n",
       "      <td>Naive Bayes - w/o Text</td>\n",
       "      <td>0.914205</td>\n",
       "      <td>0.914564</td>\n",
       "      <td>0.337629</td>\n",
       "      <td>0.744318</td>\n",
       "      <td>0.464539</td>\n",
       "    </tr>\n",
       "    <tr>\n",
       "      <th>0</th>\n",
       "      <td>Logistic Regression - w/o Text</td>\n",
       "      <td>0.904261</td>\n",
       "      <td>0.916454</td>\n",
       "      <td>0.314088</td>\n",
       "      <td>0.772727</td>\n",
       "      <td>0.446634</td>\n",
       "    </tr>\n",
       "    <tr>\n",
       "      <th>0</th>\n",
       "      <td>Naive Bayes</td>\n",
       "      <td>0.976136</td>\n",
       "      <td>0.970262</td>\n",
       "      <td>0.755556</td>\n",
       "      <td>0.772727</td>\n",
       "      <td>0.764045</td>\n",
       "    </tr>\n",
       "    <tr>\n",
       "      <th>0</th>\n",
       "      <td>Logistic Regression</td>\n",
       "      <td>0.983807</td>\n",
       "      <td>0.985558</td>\n",
       "      <td>0.818182</td>\n",
       "      <td>0.869318</td>\n",
       "      <td>0.842975</td>\n",
       "    </tr>\n",
       "    <tr>\n",
       "      <th>0</th>\n",
       "      <td>Gradient Boosting Machine</td>\n",
       "      <td>0.980398</td>\n",
       "      <td>0.987452</td>\n",
       "      <td>0.824242</td>\n",
       "      <td>0.772727</td>\n",
       "      <td>0.797654</td>\n",
       "    </tr>\n",
       "    <tr>\n",
       "      <th>0</th>\n",
       "      <td>Random Forest</td>\n",
       "      <td>0.980398</td>\n",
       "      <td>0.992970</td>\n",
       "      <td>1.000000</td>\n",
       "      <td>0.607955</td>\n",
       "      <td>0.756184</td>\n",
       "    </tr>\n",
       "  </tbody>\n",
       "</table>\n",
       "</div>"
      ],
      "text/plain": [
       "                            Model  Accuracy       AUC  Precision    Recall  \\\n",
       "0          Naive Bayes - w/o Text  0.914205  0.914564   0.337629  0.744318   \n",
       "0  Logistic Regression - w/o Text  0.904261  0.916454   0.314088  0.772727   \n",
       "0                     Naive Bayes  0.976136  0.970262   0.755556  0.772727   \n",
       "0             Logistic Regression  0.983807  0.985558   0.818182  0.869318   \n",
       "0       Gradient Boosting Machine  0.980398  0.987452   0.824242  0.772727   \n",
       "0                   Random Forest  0.980398  0.992970   1.000000  0.607955   \n",
       "\n",
       "   F1 Score  \n",
       "0  0.464539  \n",
       "0  0.446634  \n",
       "0  0.764045  \n",
       "0  0.842975  \n",
       "0  0.797654  \n",
       "0  0.756184  "
      ]
     },
     "execution_count": 37,
     "metadata": {},
     "output_type": "execute_result"
    }
   ],
   "source": [
    "# Test Metrics\n",
    "test_metrics = pd.concat([nb_nt_test_metrics[0], lr_nt_test_metrics[0],\n",
    "                          nb_test_metrics[0], lr_test_metrics[0], \n",
    "                          gbm_test_metrics[0], rf_test_metrics[0]], axis=0)\n",
    "test_metrics"
   ]
  },
  {
   "cell_type": "code",
   "execution_count": 62,
   "metadata": {},
   "outputs": [
    {
     "data": {
      "image/png": "[encoded data removed]",
      "text/plain": [
       "<Figure size 432x288 with 1 Axes>"
      ]
     },
     "metadata": {
      "needs_background": "light"
     },
     "output_type": "display_data"
    }
   ],
   "source": [
    "# barplot of F1 test scores\n",
    "f1_toplot = list(test_metrics['F1 Score'])\n",
    "model_list = list(test_metrics['Model'])\n",
    "\n",
    "f1_model_values = pd.DataFrame({'Model':model_list,\n",
    "                                'F1_Score':f1_toplot}).sort_values('F1_Score', ascending=False)\n",
    "\n",
    "# making a color code\n",
    "colors = ['grey' if (x < max(f1_model_values.F1_Score))\n",
    "          else 'royalblue' for x in f1_model_values.F1_Score]\n",
    "\n",
    "# plotting\n",
    "sns.barplot(x='F1_Score', y='Model', data=f1_model_values,\n",
    "            orient='h', palette=colors)\n",
    "\n",
    "#plt.barh(model_list, f1_toplot)\n",
    "plt.xlabel('Test F1 Score')\n",
    "plt.title('Test F1 Scores of the Different Models')\n",
    "plt.show()"
   ]
  },
  {
   "cell_type": "code",
   "execution_count": 79,
   "metadata": {},
   "outputs": [
    {
     "name": "stdout",
     "output_type": "stream",
     "text": [
      "(22, 2)\n"
     ]
    },
    {
     "data": {
      "text/html": [
       "<div>\n",
       "<style scoped>\n",
       "    .dataframe tbody tr th:only-of-type {\n",
       "        vertical-align: middle;\n",
       "    }\n",
       "\n",
       "    .dataframe tbody tr th {\n",
       "        vertical-align: top;\n",
       "    }\n",
       "\n",
       "    .dataframe thead th {\n",
       "        text-align: right;\n",
       "    }\n",
       "</style>\n",
       "<table border=\"1\" class=\"dataframe\">\n",
       "  <thead>\n",
       "    <tr style=\"text-align: right;\">\n",
       "      <th></th>\n",
       "      <th>Feature</th>\n",
       "      <th>Importance</th>\n",
       "    </tr>\n",
       "  </thead>\n",
       "  <tbody>\n",
       "    <tr>\n",
       "      <th>7941</th>\n",
       "      <td>motivated</td>\n",
       "      <td>17.222326</td>\n",
       "    </tr>\n",
       "    <tr>\n",
       "      <th>3757</th>\n",
       "      <td>department_Information Technology</td>\n",
       "      <td>15.561239</td>\n",
       "    </tr>\n",
       "    <tr>\n",
       "      <th>7928</th>\n",
       "      <td>money</td>\n",
       "      <td>15.111954</td>\n",
       "    </tr>\n",
       "    <tr>\n",
       "      <th>6716</th>\n",
       "      <td>earn</td>\n",
       "      <td>13.547162</td>\n",
       "    </tr>\n",
       "    <tr>\n",
       "      <th>6843</th>\n",
       "      <td>entry</td>\n",
       "      <td>13.301346</td>\n",
       "    </tr>\n",
       "    <tr>\n",
       "      <th>9440</th>\n",
       "      <td>type</td>\n",
       "      <td>13.198937</td>\n",
       "    </tr>\n",
       "    <tr>\n",
       "      <th>8104</th>\n",
       "      <td>option</td>\n",
       "      <td>13.164337</td>\n",
       "    </tr>\n",
       "    <tr>\n",
       "      <th>6754</th>\n",
       "      <td>eg</td>\n",
       "      <td>13.082711</td>\n",
       "    </tr>\n",
       "    <tr>\n",
       "      <th>5820</th>\n",
       "      <td>aptitude</td>\n",
       "      <td>12.617918</td>\n",
       "    </tr>\n",
       "    <tr>\n",
       "      <th>6264</th>\n",
       "      <td>communities</td>\n",
       "      <td>12.449548</td>\n",
       "    </tr>\n",
       "  </tbody>\n",
       "</table>\n",
       "</div>"
      ],
      "text/plain": [
       "                                 Feature  Importance\n",
       "7941                           motivated   17.222326\n",
       "3757  department_Information Technology    15.561239\n",
       "7928                               money   15.111954\n",
       "6716                                earn   13.547162\n",
       "6843                               entry   13.301346\n",
       "9440                                type   13.198937\n",
       "8104                              option   13.164337\n",
       "6754                                  eg   13.082711\n",
       "5820                            aptitude   12.617918\n",
       "6264                         communities   12.449548"
      ]
     },
     "execution_count": 79,
     "metadata": {},
     "output_type": "execute_result"
    }
   ],
   "source": [
    "# lr_result = lr_grid_search.fit(X_sm_train, y_sm_train)\n",
    "features = X_sm_train.columns\n",
    "importance = lr_result.best_estimator_.coef_[0]\n",
    "\n",
    "feat_imp_lr = pd.DataFrame({'Feature':features,\n",
    "                            'Importance':importance}).sort_values('Importance',ascending=False)\n",
    "\n",
    "#feat_imp_lr.head(25) dropping rows less than 11 importance for ease of plotting\n",
    "feat_imp_lr_trim = feat_imp_lr[feat_imp_lr['Importance'] > 11]\n",
    "\n",
    "print(feat_imp_lr_trim.shape)\n",
    "feat_imp_lr_trim.head(10)\n"
   ]
  },
  {
   "cell_type": "code",
   "execution_count": 78,
   "metadata": {},
   "outputs": [
    {
     "data": {
      "text/html": [
       "<div>\n",
       "<style scoped>\n",
       "    .dataframe tbody tr th:only-of-type {\n",
       "        vertical-align: middle;\n",
       "    }\n",
       "\n",
       "    .dataframe tbody tr th {\n",
       "        vertical-align: top;\n",
       "    }\n",
       "\n",
       "    .dataframe thead th {\n",
       "        text-align: right;\n",
       "    }\n",
       "</style>\n",
       "<table border=\"1\" class=\"dataframe\">\n",
       "  <thead>\n",
       "    <tr style=\"text-align: right;\">\n",
       "      <th></th>\n",
       "      <th>Feature</th>\n",
       "      <th>Importance</th>\n",
       "    </tr>\n",
       "  </thead>\n",
       "  <tbody>\n",
       "    <tr>\n",
       "      <th>6197</th>\n",
       "      <td>client</td>\n",
       "      <td>-11.033229</td>\n",
       "    </tr>\n",
       "    <tr>\n",
       "      <th>8081</th>\n",
       "      <td>openings</td>\n",
       "      <td>-11.686566</td>\n",
       "    </tr>\n",
       "    <tr>\n",
       "      <th>5488</th>\n",
       "      <td>function_Health Care Provider</td>\n",
       "      <td>-11.867037</td>\n",
       "    </tr>\n",
       "    <tr>\n",
       "      <th>813</th>\n",
       "      <td>location_GR, I, Athens</td>\n",
       "      <td>-12.304551</td>\n",
       "    </tr>\n",
       "    <tr>\n",
       "      <th>7043</th>\n",
       "      <td>findingrecruiting</td>\n",
       "      <td>-12.420854</td>\n",
       "    </tr>\n",
       "    <tr>\n",
       "      <th>5452</th>\n",
       "      <td>industry_Restaurants</td>\n",
       "      <td>-12.849870</td>\n",
       "    </tr>\n",
       "    <tr>\n",
       "      <th>1038</th>\n",
       "      <td>location_MY, 10, Petaling Jaya</td>\n",
       "      <td>-13.028501</td>\n",
       "    </tr>\n",
       "    <tr>\n",
       "      <th>1772</th>\n",
       "      <td>location_US, FL, Pensacola</td>\n",
       "      <td>-13.500973</td>\n",
       "    </tr>\n",
       "    <tr>\n",
       "      <th>8863</th>\n",
       "      <td>search</td>\n",
       "      <td>-13.824241</td>\n",
       "    </tr>\n",
       "    <tr>\n",
       "      <th>6266</th>\n",
       "      <td>companies</td>\n",
       "      <td>-18.990388</td>\n",
       "    </tr>\n",
       "  </tbody>\n",
       "</table>\n",
       "</div>"
      ],
      "text/plain": [
       "                             Feature  Importance\n",
       "6197                          client  -11.033229\n",
       "8081                        openings  -11.686566\n",
       "5488   function_Health Care Provider  -11.867037\n",
       "813           location_GR, I, Athens  -12.304551\n",
       "7043               findingrecruiting  -12.420854\n",
       "5452            industry_Restaurants  -12.849870\n",
       "1038  location_MY, 10, Petaling Jaya  -13.028501\n",
       "1772      location_US, FL, Pensacola  -13.500973\n",
       "8863                          search  -13.824241\n",
       "6266                       companies  -18.990388"
      ]
     },
     "execution_count": 78,
     "metadata": {},
     "output_type": "execute_result"
    }
   ],
   "source": [
    "# looking at the 10 least important features\n",
    "feat_imp_lr.tail(10)"
   ]
  },
  {
   "cell_type": "code",
   "execution_count": 86,
   "metadata": {},
   "outputs": [
    {
     "data": {
      "text/plain": [
       "Text(0.5, 1.0, 'Top 22 Features, in Logistic Regression Model, Based on Importance')"
      ]
     },
     "execution_count": 86,
     "metadata": {},
     "output_type": "execute_result"
    },
    {
     "data": {
      "image/png": "[encoded data removed]",
      "text/plain": [
       "<Figure size 576x432 with 1 Axes>"
      ]
     },
     "metadata": {
      "needs_background": "light"
     },
     "output_type": "display_data"
    }
   ],
   "source": [
    "# plotting the features that are important (above 11) or top 22\n",
    "plt.figure(figsize=(8,6))\n",
    "sns.barplot(x='Importance', y='Feature', data=feat_imp_lr_trim, orient='h')\n",
    "plt.title('Top 22 Features, in Logistic Regression Model, Based on Importance')"
   ]
  },
  {
   "attachments": {},
   "cell_type": "markdown",
   "metadata": {},
   "source": [
    "Looking at the top 22 features, all of which are greater than 11 we see that the term 'motivated' is the top feature. This, along with all except the 'department_Information_Technology, are all originating from the text data. When looking at the ten lowest importance features there are an even split of text and categorical features, with three of the five categorical features relating to location. \n",
    "\n",
    "This information further cements the need to include the text-based data. "
   ]
  },
  {
   "cell_type": "code",
   "execution_count": 39,
   "metadata": {},
   "outputs": [],
   "source": [
    "# Save the data set as pickle file\n",
    "g_drive = \"G:/My Drive/ADS-599_Cap_Stone/Capstone_data/\"\n",
    "\n",
    "training_metrics.to_pickle(g_drive + \"training_metrics.pkl\") \n",
    "test_metrics.to_pickle(g_drive + \"test_metrics.pkl\") "
   ]
  }
 ],
 "metadata": {
  "kernelspec": {
   "display_name": "Python 3",
   "language": "python",
   "name": "python3"
  },
  "language_info": {
   "codemirror_mode": {
    "name": "ipython",
    "version": 3
   },
   "file_extension": ".py",
   "mimetype": "text/x-python",
   "name": "python",
   "nbconvert_exporter": "python",
   "pygments_lexer": "ipython3",
   "version": "3.9.1"
  },
  "orig_nbformat": 4
 },
 "nbformat": 4,
 "nbformat_minor": 2
}
